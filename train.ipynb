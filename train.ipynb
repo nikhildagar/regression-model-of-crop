{
 "cells": [
  {
   "cell_type": "code",
   "execution_count": 4,
   "id": "0bc898d7-3272-4fa5-8106-37d7c1664ed0",
   "metadata": {},
   "outputs": [
    {
     "name": "stdout",
     "output_type": "stream",
     "text": [
      "Collecting scikit-learn\n",
      "  Downloading scikit_learn-1.6.0-cp313-cp313-manylinux_2_17_x86_64.manylinux2014_x86_64.whl.metadata (18 kB)\n",
      "Requirement already satisfied: numpy>=1.19.5 in /home/oni/sih/venv/lib/python3.13/site-packages (from scikit-learn) (2.2.0)\n",
      "Collecting scipy>=1.6.0 (from scikit-learn)\n",
      "  Downloading scipy-1.14.1-cp313-cp313-manylinux_2_17_x86_64.manylinux2014_x86_64.whl.metadata (60 kB)\n",
      "Collecting joblib>=1.2.0 (from scikit-learn)\n",
      "  Using cached joblib-1.4.2-py3-none-any.whl.metadata (5.4 kB)\n",
      "Collecting threadpoolctl>=3.1.0 (from scikit-learn)\n",
      "  Using cached threadpoolctl-3.5.0-py3-none-any.whl.metadata (13 kB)\n",
      "Downloading scikit_learn-1.6.0-cp313-cp313-manylinux_2_17_x86_64.manylinux2014_x86_64.whl (13.2 MB)\n",
      "\u001b[2K   \u001b[90m━━━━━━━━━━━━━━━━━━━━━━━━━━━━━━━━━━━━━━━━\u001b[0m \u001b[32m13.2/13.2 MB\u001b[0m \u001b[31m8.6 MB/s\u001b[0m eta \u001b[36m0:00:00\u001b[0ma \u001b[36m0:00:01\u001b[0m\n",
      "\u001b[?25hUsing cached joblib-1.4.2-py3-none-any.whl (301 kB)\n",
      "Downloading scipy-1.14.1-cp313-cp313-manylinux_2_17_x86_64.manylinux2014_x86_64.whl (40.8 MB)\n",
      "\u001b[2K   \u001b[90m━━━━━━━━━━━━━━━━━━━━━━━━━━━━━━━━━━━━━━━━\u001b[0m \u001b[32m40.8/40.8 MB\u001b[0m \u001b[31m5.5 MB/s\u001b[0m eta \u001b[36m0:00:00\u001b[0m00:01\u001b[0m00:01\u001b[0m\n",
      "\u001b[?25hUsing cached threadpoolctl-3.5.0-py3-none-any.whl (18 kB)\n",
      "Installing collected packages: threadpoolctl, scipy, joblib, scikit-learn\n",
      "Successfully installed joblib-1.4.2 scikit-learn-1.6.0 scipy-1.14.1 threadpoolctl-3.5.0\n"
     ]
    }
   ],
   "source": [
    "!python3 -m pip install scikit-learn"
   ]
  },
  {
   "cell_type": "code",
   "execution_count": 2,
   "id": "f3adc560-5f25-456d-a3bf-790cab4c1464",
   "metadata": {},
   "outputs": [],
   "source": [
    "# Import Libraries\n",
    "import pandas as pd\n",
    "import numpy as np\n",
    "from sklearn.model_selection import train_test_split\n",
    "from sklearn.preprocessing import MinMaxScaler\n",
    "from sklearn.linear_model import LinearRegression\n",
    "from sklearn.metrics import mean_squared_error, r2_score\n",
    "import matplotlib.pyplot as plt"
   ]
  },
  {
   "cell_type": "code",
   "execution_count": 3,
   "id": "9323436f-1707-4c14-a2c9-878545d78bb2",
   "metadata": {},
   "outputs": [
    {
     "name": "stdout",
     "output_type": "stream",
     "text": [
      "<class 'pandas.core.frame.DataFrame'>\n",
      "RangeIndex: 5844 entries, 0 to 5843\n",
      "Data columns (total 15 columns):\n",
      " #   Column                   Non-Null Count  Dtype  \n",
      "---  ------                   --------------  -----  \n",
      " 0   Kc                       5844 non-null   float64\n",
      " 1   ETo (mm/day)             5844 non-null   float64\n",
      " 2   Temp Min (°C)            5844 non-null   float64\n",
      " 3   Temp Max (°C)            5844 non-null   float64\n",
      " 4   Humidity (%)             5844 non-null   float64\n",
      " 5   Rainfall (mm)            5844 non-null   float64\n",
      " 6   Wind Speed (m/s)         5844 non-null   float64\n",
      " 7   Solar Radiation (MJ/m²)  5844 non-null   float64\n",
      " 8   ETc (mm/day)             5844 non-null   float64\n",
      " 9   DAS                      5844 non-null   int64  \n",
      " 10  Growth_Phase             5844 non-null   object \n",
      " 11  Temp_Range               5844 non-null   float64\n",
      " 12  DayOfYear_sin            5844 non-null   float64\n",
      " 13  DayOfYear_cos            5844 non-null   float64\n",
      " 14  Is_Raining               5844 non-null   int64  \n",
      "dtypes: float64(12), int64(2), object(1)\n",
      "memory usage: 685.0+ KB\n"
     ]
    }
   ],
   "source": [
    "# Step 1: Load and Explore Data\n",
    "data = pd.read_csv('featured_data.csv')  # Replace with your dataset's file name\n",
    "data.head()\n",
    "data.info()"
   ]
  },
  {
   "cell_type": "code",
   "execution_count": 4,
   "id": "c105cd07-25e5-49b7-85c9-f033d861b111",
   "metadata": {},
   "outputs": [],
   "source": [
    "# # Step 3: Feature Encoding for Categorical Variables\n",
    "# # Check unique values in Growth_Phase\n",
    "# print(data['Growth_Phase'].unique())\n",
    "\n",
    "# # Convert Growth_Phase to numeric using one-hot encoding\n",
    "# data = pd.get_dummies(data, columns=[\"Growth_Phase\"], drop_first=True)"
   ]
  },
  {
   "cell_type": "code",
   "execution_count": 5,
   "id": "c2032421-2692-4923-a7bc-91fee6d4d859",
   "metadata": {},
   "outputs": [],
   "source": [
    "# Step 3: Feature Encoding for Categorical Variables\n",
    "data = pd.get_dummies(data, columns=[\"Growth_Phase\"], drop_first=True)\n"
   ]
  },
  {
   "cell_type": "code",
   "execution_count": 1,
   "id": "3e6b91df-254b-457f-b787-23833c42b2fc",
   "metadata": {},
   "outputs": [
    {
     "ename": "NameError",
     "evalue": "name 'MinMaxScaler' is not defined",
     "output_type": "error",
     "traceback": [
      "\u001b[1;31m---------------------------------------------------------------------------\u001b[0m",
      "\u001b[1;31mNameError\u001b[0m                                 Traceback (most recent call last)",
      "Cell \u001b[1;32mIn[1], line 7\u001b[0m\n\u001b[0;32m      1\u001b[0m \u001b[38;5;66;03m# Step 4: Feature Engineering and Scaling\u001b[39;00m\n\u001b[0;32m      2\u001b[0m \u001b[38;5;66;03m# Select features for scaling\u001b[39;00m\n\u001b[0;32m      3\u001b[0m features_to_scale \u001b[38;5;241m=\u001b[39m [\u001b[38;5;124m'\u001b[39m\u001b[38;5;124mKc\u001b[39m\u001b[38;5;124m'\u001b[39m, \u001b[38;5;124m'\u001b[39m\u001b[38;5;124mETo (mm/day)\u001b[39m\u001b[38;5;124m'\u001b[39m, \u001b[38;5;124m'\u001b[39m\u001b[38;5;124mTemp Min (°C)\u001b[39m\u001b[38;5;124m'\u001b[39m, \u001b[38;5;124m'\u001b[39m\u001b[38;5;124mTemp Max (°C)\u001b[39m\u001b[38;5;124m'\u001b[39m,\n\u001b[0;32m      4\u001b[0m                      \u001b[38;5;124m'\u001b[39m\u001b[38;5;124mHumidity (\u001b[39m\u001b[38;5;124m%\u001b[39m\u001b[38;5;124m)\u001b[39m\u001b[38;5;124m'\u001b[39m, \u001b[38;5;124m'\u001b[39m\u001b[38;5;124mRainfall (mm)\u001b[39m\u001b[38;5;124m'\u001b[39m, \u001b[38;5;124m'\u001b[39m\u001b[38;5;124mWind Speed (m/s)\u001b[39m\u001b[38;5;124m'\u001b[39m,\n\u001b[0;32m      5\u001b[0m                      \u001b[38;5;124m'\u001b[39m\u001b[38;5;124mSolar Radiation (MJ/m²)\u001b[39m\u001b[38;5;124m'\u001b[39m, \u001b[38;5;124m'\u001b[39m\u001b[38;5;124mTemp_Range\u001b[39m\u001b[38;5;124m'\u001b[39m]\n\u001b[1;32m----> 7\u001b[0m scaler \u001b[38;5;241m=\u001b[39m MinMaxScaler()\n\u001b[0;32m      8\u001b[0m data[features_to_scale] \u001b[38;5;241m=\u001b[39m scaler\u001b[38;5;241m.\u001b[39mfit_transform(data[features_to_scale])\n",
      "\u001b[1;31mNameError\u001b[0m: name 'MinMaxScaler' is not defined"
     ]
    }
   ],
   "source": [
    "# Step 4: Feature Engineering and Scaling\n",
    "# Select features for scaling\n",
    "features_to_scale = ['Kc', 'ETo (mm/day)', 'Temp Min (°C)', 'Temp Max (°C)',\n",
    "                     'Humidity (%)', 'Rainfall (mm)', 'Wind Speed (m/s)',\n",
    "                     'Solar Radiation (MJ/m²)', 'Temp_Range']\n",
    "\n",
    "scaler = MinMaxScaler()\n",
    "data[features_to_scale] = scaler.fit_transform(data[features_to_scale])\n"
   ]
  },
  {
   "cell_type": "code",
   "execution_count": 3,
   "id": "c0a3ec92-62dd-448a-9255-e1db765030ef",
   "metadata": {},
   "outputs": [
    {
     "ename": "NameError",
     "evalue": "name 'data' is not defined",
     "output_type": "error",
     "traceback": [
      "\u001b[1;31m---------------------------------------------------------------------------\u001b[0m",
      "\u001b[1;31mNameError\u001b[0m                                 Traceback (most recent call last)",
      "Cell \u001b[1;32mIn[3], line 3\u001b[0m\n\u001b[0;32m      1\u001b[0m \u001b[38;5;66;03m# Step 5: Split Data into Training and Testing Sets\u001b[39;00m\n\u001b[0;32m      2\u001b[0m \u001b[38;5;66;03m# Define features (X) and target (y)\u001b[39;00m\n\u001b[1;32m----> 3\u001b[0m X \u001b[38;5;241m=\u001b[39m data\u001b[38;5;241m.\u001b[39mdrop(columns\u001b[38;5;241m=\u001b[39m[\u001b[38;5;124m'\u001b[39m\u001b[38;5;124mETc (mm/day)\u001b[39m\u001b[38;5;124m'\u001b[39m])\n\u001b[0;32m      4\u001b[0m y \u001b[38;5;241m=\u001b[39m data[\u001b[38;5;124m'\u001b[39m\u001b[38;5;124mETc (mm/day)\u001b[39m\u001b[38;5;124m'\u001b[39m]\n",
      "\u001b[1;31mNameError\u001b[0m: name 'data' is not defined"
     ]
    }
   ],
   "source": [
    "# Step 5: Split Data into Training and Testing Sets\n",
    "# Define features (X) and target (y)\n",
    "X = data.drop(columns=['ETc (mm/day)'])\n",
    "y = data['ETc (mm/day)']\n"
   ]
  },
  {
   "cell_type": "code",
   "execution_count": 8,
   "id": "1fca20f8-a365-4e52-851e-1902a1960d15",
   "metadata": {},
   "outputs": [],
   "source": [
    "# Train-test split\n",
    "X_train, X_test, y_train, y_test = train_test_split(X, y, test_size=0.2, random_state=42)\n"
   ]
  },
  {
   "cell_type": "code",
   "execution_count": 5,
   "id": "b74da302-4d04-49bd-ae2c-4d253b59b7ef",
   "metadata": {},
   "outputs": [
    {
     "ename": "SyntaxError",
     "evalue": "unterminated string literal (detected at line 4) (1562336667.py, line 4)",
     "output_type": "error",
     "traceback": [
      "\u001b[1;36m  Cell \u001b[1;32mIn[5], line 4\u001b[1;36m\u001b[0m\n\u001b[1;33m    model.fit(X_train, y_train)\"\u001b[0m\n\u001b[1;37m                               ^\u001b[0m\n\u001b[1;31mSyntaxError\u001b[0m\u001b[1;31m:\u001b[0m unterminated string literal (detected at line 4)\n"
     ]
    }
   ],
   "source": [
    "# Step 6: Train the Linear Model\n",
    "# Initialize and train the linear regression model\n",
    "model = LinearRegression()\n",
    "model.fit(X_train, y_train)\"\n"
   ]
  },
  {
   "cell_type": "code",
   "execution_count": 10,
   "id": "19978419-fabd-4726-a406-d372aa24b74e",
   "metadata": {},
   "outputs": [],
   "source": [
    "# Step 7: Evaluate the Model\n",
    "# Predict using the testing set\n",
    "y_pred = model.predict(X_test)"
   ]
  },
  {
   "cell_type": "code",
   "execution_count": 7,
   "id": "def13e7a-1f35-4e9d-9ac5-4c6d32efdaad",
   "metadata": {},
   "outputs": [
    {
     "ename": "NameError",
     "evalue": "name 'mean_squared_error' is not defined",
     "output_type": "error",
     "traceback": [
      "\u001b[1;31m---------------------------------------------------------------------------\u001b[0m",
      "\u001b[1;31mNameError\u001b[0m                                 Traceback (most recent call last)",
      "Cell \u001b[1;32mIn[7], line 2\u001b[0m\n\u001b[0;32m      1\u001b[0m \u001b[38;5;66;03m# Calculate evaluation metrics\u001b[39;00m\n\u001b[1;32m----> 2\u001b[0m mse \u001b[38;5;241m=\u001b[39m mean_squared_error(y_test, y_pred)\n\u001b[0;32m      3\u001b[0m r2 \u001b[38;5;241m=\u001b[39m r2_score(y_test, y_pred)\n\u001b[0;32m      4\u001b[0m \u001b[38;5;28mprint\u001b[39m(\u001b[38;5;124mf\u001b[39m\u001b[38;5;124m\"\u001b[39m\u001b[38;5;124mMean Squared Error: \u001b[39m\u001b[38;5;132;01m{\u001b[39;00mmse\u001b[38;5;132;01m}\u001b[39;00m\u001b[38;5;124m\"\u001b[39m)\n",
      "\u001b[1;31mNameError\u001b[0m: name 'mean_squared_error' is not defined"
     ]
    }
   ],
   "source": [
    "# Calculate evaluation metrics\n",
    "mse = mean_squared_error(y_test, y_pred)\n",
    "r2 = r2_score(y_test, y_pred)\n",
    "print(f\"Mean Squared Error: {mse}\")\n",
    "print(f\"R² Score: {r2}\")\n"
   ]
  },
  {
   "cell_type": "code",
   "execution_count": 9,
   "id": "cad669f1-7601-4613-b31b-710601b13c70",
   "metadata": {},
   "outputs": [
    {
     "ename": "NameError",
     "evalue": "name 'y_test' is not defined",
     "output_type": "error",
     "traceback": [
      "\u001b[1;31m---------------------------------------------------------------------------\u001b[0m",
      "\u001b[1;31mNameError\u001b[0m                                 Traceback (most recent call last)",
      "Cell \u001b[1;32mIn[9], line 2\u001b[0m\n\u001b[0;32m      1\u001b[0m \u001b[38;5;66;03m# Step 8: Analyze Residuals\u001b[39;00m\n\u001b[1;32m----> 2\u001b[0m residuals \u001b[38;5;241m=\u001b[39m y_test \u001b[38;5;241m-\u001b[39m y_pred\n\u001b[0;32m      3\u001b[0m plt\u001b[38;5;241m.\u001b[39mscatter(y_pred, residuals)\n\u001b[0;32m      4\u001b[0m plt\u001b[38;5;241m.\u001b[39maxhline(y\u001b[38;5;241m=\u001b[39m\u001b[38;5;241m0\u001b[39m, color\u001b[38;5;241m=\u001b[39m\u001b[38;5;124m'\u001b[39m\u001b[38;5;124mr\u001b[39m\u001b[38;5;124m'\u001b[39m, linestyle\u001b[38;5;241m=\u001b[39m\u001b[38;5;124m'\u001b[39m\u001b[38;5;124m--\u001b[39m\u001b[38;5;124m'\u001b[39m)\n",
      "\u001b[1;31mNameError\u001b[0m: name 'y_test' is not defined"
     ]
    }
   ],
   "source": [
    "# Step 8: Analyze Residuals\n",
    "residuals = y_test - y_pred\n",
    "plt.scatter(y_pred, residuals)\n",
    "plt.axhline(y=0, color='r', linestyle='--')\n",
    "plt.xlabel(\"Predicted Values\")\n",
    "plt.ylabel(\"Residuals\")\n",
    "plt.title(\"Residuals Analysis\")\n",
    "plt.show()\n"
   ]
  },
  {
   "cell_type": "code",
   "execution_count": 13,
   "id": "1d31a3d6-c88c-4d0f-9a1c-0a53b990b7a2",
   "metadata": {},
   "outputs": [
    {
     "name": "stdout",
     "output_type": "stream",
     "text": [
      "                      Feature  Coefficient\n",
      "10              DayOfYear_sin     1.761518\n",
      "2               Temp Min (°C)     0.043298\n",
      "5               Rainfall (mm)     0.042849\n",
      "3               Temp Max (°C)     0.032607\n",
      "4                Humidity (%)     0.012248\n",
      "15    Growth_Phase_Vegetative     0.008630\n",
      "14       Growth_Phase_Seeding     0.007492\n",
      "9                  Temp_Range     0.006036\n",
      "11              DayOfYear_cos     0.003887\n",
      "8                         DAS     0.000002\n",
      "12                 Is_Raining    -0.010158\n",
      "13  Growth_Phase_Reproductive    -0.015366\n",
      "0                          Kc    -0.027397\n",
      "6            Wind Speed (m/s)    -0.035172\n",
      "1                ETo (mm/day)    -0.053312\n",
      "7     Solar Radiation (MJ/m²)    -0.192221\n"
     ]
    }
   ],
   "source": [
    "# Step 9: Feature Importance\n",
    "feature_importance = pd.DataFrame({'Feature': X.columns, 'Coefficient': model.coef_})\n",
    "feature_importance = feature_importance.sort_values(by='Coefficient', ascending=False)\n",
    "print(feature_importance)"
   ]
  },
  {
   "cell_type": "code",
   "execution_count": 16,
   "id": "992eab3e-7a2e-4e7f-a0d9-6394cee31b0c",
   "metadata": {},
   "outputs": [
    {
     "name": "stdout",
     "output_type": "stream",
     "text": [
      "['Kc', 'ETo (mm/day)', 'Temp Min (°C)', 'Temp Max (°C)', 'Humidity (%)', 'Rainfall (mm)', 'Wind Speed (m/s)', 'Solar Radiation (MJ/m²)', 'DAS', 'Temp_Range', 'DayOfYear_sin', 'DayOfYear_cos', 'Is_Raining', 'Growth_Phase_Reproductive', 'Growth_Phase_Seeding', 'Growth_Phase_Vegetative']\n"
     ]
    }
   ],
   "source": [
    "print(features_used_in_training)"
   ]
  },
  {
   "cell_type": "code",
   "execution_count": 81,
   "id": "ec15e2f1-9651-4dbc-a1bc-d480b38796cc",
   "metadata": {},
   "outputs": [],
   "source": [
    "# Define features used during training\n",
    "features_used_in_training = list(X_train.columns)\n",
    "\n",
    "# Example user input values\n",
    "user_input = {\n",
    "    'Kc': 0.4,  # Example value\n",
    "    'ETo (mm/day)': 5.51,\n",
    "    'Temp Min (°C)': 10,\n",
    "    'Temp Max (°C)': 45,\n",
    "    'Humidity (%)': 60,\n",
    "    'Rainfall (mm)': 3,\n",
    "    'Wind Speed (m/s)': 2,\n",
    "    'Solar Radiation (MJ/m²)': 20,\n",
    "    'Temp_Range': 15,\n",
    "    'DAS': 50,\n",
    "    'DayOfYear_sin': 0.5,\n",
    "    'DayOfYear_cos': 0.86,\n",
    "    'Is_Raining': 0,  # Adjust based on user selection\n",
    "    \"Growth_Phase_Reproductive\": 0,\n",
    "    \"Growth_Phase_Seeding\": 0,\n",
    "    \"Growth_Phase_Vegetative\": 1\n",
    "}\n",
    "\n",
    "# Add missing features with default values\n",
    "for feature in features_used_in_training:\n",
    "    if feature not in user_input:\n",
    "        user_input[feature] = 0\n"
   ]
  },
  {
   "cell_type": "code",
   "execution_count": 82,
   "id": "12c944a1-2934-4dcd-818f-ce55c033231b",
   "metadata": {},
   "outputs": [
    {
     "name": "stdout",
     "output_type": "stream",
     "text": [
      "Index(['Kc', 'ETo (mm/day)', 'Temp Min (°C)', 'Temp Max (°C)', 'Humidity (%)',\n",
      "       'Rainfall (mm)', 'Wind Speed (m/s)', 'Solar Radiation (MJ/m²)', 'DAS',\n",
      "       'Temp_Range', 'DayOfYear_sin', 'DayOfYear_cos', 'Is_Raining',\n",
      "       'Growth_Phase_Reproductive', 'Growth_Phase_Seeding',\n",
      "       'Growth_Phase_Vegetative'],\n",
      "      dtype='object')\n"
     ]
    }
   ],
   "source": [
    "features_used_in_training = X_train.columns\n",
    "print(features_used_in_training)"
   ]
  },
  {
   "cell_type": "code",
   "execution_count": 83,
   "id": "e60c6095-a28f-4841-8fff-67b13fed7bec",
   "metadata": {},
   "outputs": [],
   "source": [
    "# Convert user input to DataFrame\n",
    "user_df = pd.DataFrame([user_input])\n",
    "\n",
    "# Reorder user DataFrame to match training feature order\n",
    "user_df = user_df[features_used_in_training]\n",
    "\n",
    "# Apply feature scaling to scaled features\n",
    "user_df[features_to_scale] = scaler.transform(user_df[features_to_scale])"
   ]
  },
  {
   "cell_type": "code",
   "execution_count": 85,
   "id": "939614c1-2401-48fb-9d89-8145bb08bf90",
   "metadata": {},
   "outputs": [
    {
     "name": "stdout",
     "output_type": "stream",
     "text": [
      "Predicted ETc (mm/day): 2.4546284003418277\n"
     ]
    }
   ],
   "source": [
    "# Make prediction\n",
    "etc_prediction = model.predict(user_df)\n",
    "print(f\"Predicted ETc (mm/day): {etc_prediction[0]}\")"
   ]
  },
  {
   "cell_type": "code",
   "execution_count": 86,
   "id": "b91c264f-593b-4697-8fd9-add1904a35f8",
   "metadata": {},
   "outputs": [
    {
     "name": "stdout",
     "output_type": "stream",
     "text": [
      "Requirement already satisfied: joblib in /home/oni/sih/venv/lib/python3.13/site-packages (1.4.2)\n"
     ]
    }
   ],
   "source": [
    "!python -m pip install joblib"
   ]
  },
  {
   "cell_type": "code",
   "execution_count": 11,
   "id": "07c9017a-a6ee-4abf-aaec-d7b62591577d",
   "metadata": {},
   "outputs": [
    {
     "ename": "NameError",
     "evalue": "name 'model' is not defined",
     "output_type": "error",
     "traceback": [
      "\u001b[1;31m---------------------------------------------------------------------------\u001b[0m",
      "\u001b[1;31mNameError\u001b[0m                                 Traceback (most recent call last)",
      "Cell \u001b[1;32mIn[11], line 4\u001b[0m\n\u001b[0;32m      1\u001b[0m \u001b[38;5;28;01mimport\u001b[39;00m \u001b[38;5;21;01mjoblib\u001b[39;00m\n\u001b[0;32m      3\u001b[0m \u001b[38;5;66;03m# Save the model to a file\u001b[39;00m\n\u001b[1;32m----> 4\u001b[0m joblib\u001b[38;5;241m.\u001b[39mdump(model, \u001b[38;5;124m'\u001b[39m\u001b[38;5;124mlinear_regression_model.pkl\u001b[39m\u001b[38;5;124m'\u001b[39m)\n",
      "\u001b[1;31mNameError\u001b[0m: name 'model' is not defined"
     ]
    }
   ],
   "source": [
    "import joblib\n",
    "\n",
    "# Save the model to a file\n",
    "joblib.dump(model, 'linear_regression_model.pkl')"
   ]
  },
  {
   "cell_type": "code",
   "execution_count": null,
   "id": "3e11992d-7460-42e6-ac1d-964c5482477c",
   "metadata": {},
   "outputs": [],
   "source": []
  },
  {
   "cell_type": "code",
   "execution_count": null,
   "id": "10ec5dfc-3212-4ec7-a21b-b3fbd6b5f750",
   "metadata": {},
   "outputs": [],
   "source": []
  }
 ],
 "metadata": {
  "kernelspec": {
   "display_name": "Python 3 (ipykernel)",
   "language": "python",
   "name": "python3"
  },
  "language_info": {
   "codemirror_mode": {
    "name": "ipython",
    "version": 3
   },
   "file_extension": ".py",
   "mimetype": "text/x-python",
   "name": "python",
   "nbconvert_exporter": "python",
   "pygments_lexer": "ipython3",
   "version": "3.12.7"
  },
  "vscode": {
   "interpreter": {
    "hash": "c261aea317cc0286b3b3261fbba9abdec21eaa57589985bb7a274bf54d6cc0a7"
   }
  }
 },
 "nbformat": 4,
 "nbformat_minor": 5
}
